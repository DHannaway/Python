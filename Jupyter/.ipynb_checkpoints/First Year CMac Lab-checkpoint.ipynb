{
 "cells": [
  {
   "cell_type": "markdown",
   "metadata": {},
   "source": [
    "# NGC 891: \n",
    "##  Determining the Stellar Distribution and Mass of its Interstellar Medium\n",
    "\n",
    "This goal of this interactive python notebook is to allow the user to input different parameters for a dusty galaxy, and generate an image of this galaxy using the CMacIonize program."
   ]
  },
  {
   "cell_type": "markdown",
   "metadata": {},
   "source": [
    "The first step is to estimate the ratio of the bulge luminosity and the total luminosity of the galaxy.\n",
    "This will be a value between 0 and 1:"
   ]
  },
  {
   "cell_type": "code",
   "execution_count": 1,
   "metadata": {
    "collapsed": true
   },
   "outputs": [],
   "source": [
    "B_T=0.05"
   ]
  },
  {
   "cell_type": "markdown",
   "metadata": {},
   "source": [
    "The next step is to estimate **distribution of the starlight** in the galaxy, in terms of height and radius (in kpc)"
   ]
  },
  {
   "cell_type": "code",
   "execution_count": 2,
   "metadata": {
    "collapsed": true
   },
   "outputs": [],
   "source": [
    "h_stars=0.6   #kpc\n",
    "r_stars=5.0   #kpc"
   ]
  },
  {
   "cell_type": "markdown",
   "metadata": {},
   "source": [
    "Now we must estimate the **distribution of the gas and dust** in the galaxy (again in kpc), and the **number density** of the gas and dust particles (per cubic cm)"
   ]
  },
  {
   "cell_type": "code",
   "execution_count": 3,
   "metadata": {
    "collapsed": true
   },
   "outputs": [],
   "source": [
    "h_ISM=0.2   #kpc\n",
    "r_ISM=6.0   #kpc\n",
    "n_0=1.0   #cm^-3"
   ]
  },
  {
   "cell_type": "markdown",
   "metadata": {},
   "source": [
    "These parameters will now be added into the Monte Carlo radiation transfer code, and an image of this simulated galaxy will be produced:\n",
    "\n",
    "*This might take about half a minute to compile*"
   ]
  },
  {
   "cell_type": "code",
   "execution_count": 4,
   "metadata": {},
   "outputs": [
    {
     "data": {
      "image/png": "[encoded data removed]",
      "text/plain": [
       "<matplotlib.figure.Figure at 0x19df63834e0>"
      ]
     },
     "metadata": {},
     "output_type": "display_data"
    }
   ],
   "source": [
    "import numpy as np\n",
    "import matplotlib.pyplot as plt\n",
    "import os\n",
    "\n",
    "#Path to the executable file:\n",
    "codepath='C:\\\\Users\\\\Dan\\\\Documents\\\\GitHub\\\\Python\\\\Jupyter\\\\'\n",
    "filename='CMacIonize.exe --params test_dustsimulation.param --dusty-radiative-transfer --threads 8'\n",
    "\n",
    "nphotons=600000\n",
    "\n",
    "#Replace the old .param file with a new one with the entered values\n",
    "with open('test_dustsimulation_original.param') as g:\n",
    "\tlines=list(g)\n",
    "\n",
    "h=open('test_dustsimulation.param','w')\n",
    "for i in range(0,len(lines)):\n",
    "\tif i==12:\n",
    "\t\th.write('  B_over_T: '+str(B_T)+'\\n')\n",
    "\telif i==13:\n",
    "\t\th.write( '  h_stars: '+str(h_stars)+' kpc\\n' )\n",
    "\telif i==14:\n",
    "\t\th.write('  r_stars: '+str(r_stars)+' kpc\\n'  )\n",
    "\telif i==16:\n",
    "\t\th.write('  h_ISM: '+str(h_ISM)+' kpc\\n'  )\n",
    "\telif i==18:\n",
    "\t\th.write('  r_ISM: '+str(r_ISM)+' kpc\\n'  )\n",
    "\telif i==17:\n",
    "\t\th.write('  n_0: '+str(n_0)+' cm^-3\\n' )\n",
    "\telif i==28:\n",
    "\t\th.write('number of photons: '+str(nphotons)+'\\n'  )\n",
    "\telse:\n",
    "\t\th.write(lines[i])\n",
    "h.close()\n",
    "\n",
    "#Input this new file into the testDustSimulation program and compile\n",
    "os.system(codepath+filename) \n",
    "\n",
    "#Input the created binary file, and plot as an image\n",
    "image = np.fromfile(\"test_dustsimulation_output.dat\", dtype = np.float64)\n",
    "image = image.reshape((200, 200))\n",
    "fig, ax = plt.subplots() \n",
    "ax.matshow(np.transpose(image), cmap='Greys_r')\n",
    "plt.text(5,70,\"B_T =\"+str(B_T)+'\\n'+\"h_stars =\"+str(h_stars)+'\\n'+\"r_stars =\"+str(r_stars)+'\\n'+\"h_ISM =\"+str(h_ISM)+'\\n'+\"r_ISM =\"+str(r_ISM)+'\\n'+\"n0 =\"+str(n_0),color='w')\n",
    "\n",
    "tick_locs_x = [0,100,200]\n",
    "tick_locs_y = [0,100,200]\n",
    "\n",
    "xtick_lbls = ['-12.1kpc','0','12.1kpc']\n",
    "ytick_lbls = ['-12.1kpc','0','12.1kpc']\n",
    "\n",
    "plt.xticks(tick_locs_x, xtick_lbls,rotation=0,fontsize=10)\n",
    "plt.yticks(tick_locs_y, ytick_lbls,rotation=0,fontsize=10)\n",
    "plt.show()"
   ]
  },
  {
   "cell_type": "markdown",
   "metadata": {},
   "source": [
    "You should now see the generated image of the dusty galaxy!"
   ]
  },
  {
   "cell_type": "code",
   "execution_count": 5,
   "metadata": {
    "collapsed": true
   },
   "outputs": [],
   "source": [
    "from tkinter import *"
   ]
  },
  {
   "cell_type": "code",
   "execution_count": 26,
   "metadata": {},
   "outputs": [],
   "source": [
    "def print_value(val):\n",
    "    print(val)\n",
    "    a=val\n",
    "\n",
    "root = Tk()\n",
    "\n",
    "scale = Scale(orient='horizontal', from_=0, to=128, command=print_value)\n",
    "scale.pack()\n",
    "\n",
    "root.mainloop()"
   ]
  },
  {
   "cell_type": "code",
   "execution_count": 25,
   "metadata": {},
   "outputs": [
    {
     "ename": "TclError",
     "evalue": "can't invoke \"pack\" command: application has been destroyed",
     "output_type": "error",
     "traceback": [
      "\u001b[1;31m---------------------------------------------------------------------------\u001b[0m",
      "\u001b[1;31mTclError\u001b[0m                                  Traceback (most recent call last)",
      "\u001b[1;32m<ipython-input-25-7835a33f04b8>\u001b[0m in \u001b[0;36m<module>\u001b[1;34m()\u001b[0m\n\u001b[1;32m----> 1\u001b[1;33m \u001b[0mscale\u001b[0m\u001b[1;33m.\u001b[0m\u001b[0mpack\u001b[0m\u001b[1;33m(\u001b[0m\u001b[1;33m)\u001b[0m\u001b[1;33m\u001b[0m\u001b[0m\n\u001b[0m",
      "\u001b[1;32mC:\\Users\\Dan\\Anaconda3\\lib\\tkinter\\__init__.py\u001b[0m in \u001b[0;36mpack_configure\u001b[1;34m(self, cnf, **kw)\u001b[0m\n\u001b[0;32m   2135\u001b[0m         self.tk.call(\n\u001b[0;32m   2136\u001b[0m               \u001b[1;33m(\u001b[0m\u001b[1;34m'pack'\u001b[0m\u001b[1;33m,\u001b[0m \u001b[1;34m'configure'\u001b[0m\u001b[1;33m,\u001b[0m \u001b[0mself\u001b[0m\u001b[1;33m.\u001b[0m\u001b[0m_w\u001b[0m\u001b[1;33m)\u001b[0m\u001b[1;33m\u001b[0m\u001b[0m\n\u001b[1;32m-> 2137\u001b[1;33m               + self._options(cnf, kw))\n\u001b[0m\u001b[0;32m   2138\u001b[0m     \u001b[0mpack\u001b[0m \u001b[1;33m=\u001b[0m \u001b[0mconfigure\u001b[0m \u001b[1;33m=\u001b[0m \u001b[0mconfig\u001b[0m \u001b[1;33m=\u001b[0m \u001b[0mpack_configure\u001b[0m\u001b[1;33m\u001b[0m\u001b[0m\n\u001b[0;32m   2139\u001b[0m     \u001b[1;32mdef\u001b[0m \u001b[0mpack_forget\u001b[0m\u001b[1;33m(\u001b[0m\u001b[0mself\u001b[0m\u001b[1;33m)\u001b[0m\u001b[1;33m:\u001b[0m\u001b[1;33m\u001b[0m\u001b[0m\n",
      "\u001b[1;31mTclError\u001b[0m: can't invoke \"pack\" command: application has been destroyed"
     ]
    }
   ],
   "source": []
  }
 ],
 "metadata": {
  "kernelspec": {
   "display_name": "Python 3",
   "language": "python",
   "name": "python3"
  }
 },
 "nbformat": 4,
 "nbformat_minor": 2
}
